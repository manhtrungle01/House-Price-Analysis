{
 "cells": [
  {
   "cell_type": "markdown",
   "metadata": {},
   "source": [
    "## Part 1:Exploratory analysis on house price"
   ]
  },
  {
   "cell_type": "code",
   "execution_count": 1,
   "metadata": {},
   "outputs": [],
   "source": [
    "%matplotlib inline\n",
    "import pandas as pd\n",
    "import numpy as np\n",
    "import matplotlib.pyplot as plt\n",
    "import seaborn as sns"
   ]
  },
  {
   "cell_type": "code",
   "execution_count": 2,
   "metadata": {},
   "outputs": [
    {
     "data": {
      "text/html": [
       "<div>\n",
       "<style scoped>\n",
       "    .dataframe tbody tr th:only-of-type {\n",
       "        vertical-align: middle;\n",
       "    }\n",
       "\n",
       "    .dataframe tbody tr th {\n",
       "        vertical-align: top;\n",
       "    }\n",
       "\n",
       "    .dataframe thead th {\n",
       "        text-align: right;\n",
       "    }\n",
       "</style>\n",
       "<table border=\"1\" class=\"dataframe\">\n",
       "  <thead>\n",
       "    <tr style=\"text-align: right;\">\n",
       "      <th></th>\n",
       "      <th>id</th>\n",
       "      <th>price</th>\n",
       "      <th>bedrooms</th>\n",
       "      <th>bathrooms</th>\n",
       "      <th>sqm_living</th>\n",
       "      <th>sqm_lot</th>\n",
       "      <th>waterfront</th>\n",
       "    </tr>\n",
       "  </thead>\n",
       "  <tbody>\n",
       "    <tr>\n",
       "      <th>0</th>\n",
       "      <td>1</td>\n",
       "      <td>221900</td>\n",
       "      <td>3</td>\n",
       "      <td>1.00</td>\n",
       "      <td>109.624675</td>\n",
       "      <td>524.897807</td>\n",
       "      <td>0</td>\n",
       "    </tr>\n",
       "    <tr>\n",
       "      <th>1</th>\n",
       "      <td>2</td>\n",
       "      <td>538000</td>\n",
       "      <td>3</td>\n",
       "      <td>2.25</td>\n",
       "      <td>238.758826</td>\n",
       "      <td>672.798216</td>\n",
       "      <td>0</td>\n",
       "    </tr>\n",
       "    <tr>\n",
       "      <th>2</th>\n",
       "      <td>3</td>\n",
       "      <td>180000</td>\n",
       "      <td>2</td>\n",
       "      <td>1.00</td>\n",
       "      <td>71.534745</td>\n",
       "      <td>929.022668</td>\n",
       "      <td>0</td>\n",
       "    </tr>\n",
       "    <tr>\n",
       "      <th>3</th>\n",
       "      <td>4</td>\n",
       "      <td>604000</td>\n",
       "      <td>4</td>\n",
       "      <td>3.00</td>\n",
       "      <td>182.088443</td>\n",
       "      <td>464.511334</td>\n",
       "      <td>0</td>\n",
       "    </tr>\n",
       "    <tr>\n",
       "      <th>4</th>\n",
       "      <td>5</td>\n",
       "      <td>510000</td>\n",
       "      <td>3</td>\n",
       "      <td>2.00</td>\n",
       "      <td>156.075808</td>\n",
       "      <td>750.650316</td>\n",
       "      <td>0</td>\n",
       "    </tr>\n",
       "  </tbody>\n",
       "</table>\n",
       "</div>"
      ],
      "text/plain": [
       "   id   price  bedrooms  bathrooms  sqm_living     sqm_lot  waterfront\n",
       "0   1  221900         3       1.00  109.624675  524.897807           0\n",
       "1   2  538000         3       2.25  238.758826  672.798216           0\n",
       "2   3  180000         2       1.00   71.534745  929.022668           0\n",
       "3   4  604000         4       3.00  182.088443  464.511334           0\n",
       "4   5  510000         3       2.00  156.075808  750.650316           0"
      ]
     },
     "execution_count": 2,
     "metadata": {},
     "output_type": "execute_result"
    }
   ],
   "source": [
    "data = pd.read_csv('house_data.csv')\n",
    "data.head()"
   ]
  },
  {
   "cell_type": "code",
   "execution_count": 3,
   "metadata": {},
   "outputs": [
    {
     "data": {
      "text/html": [
       "<div>\n",
       "<style scoped>\n",
       "    .dataframe tbody tr th:only-of-type {\n",
       "        vertical-align: middle;\n",
       "    }\n",
       "\n",
       "    .dataframe tbody tr th {\n",
       "        vertical-align: top;\n",
       "    }\n",
       "\n",
       "    .dataframe thead th {\n",
       "        text-align: right;\n",
       "    }\n",
       "</style>\n",
       "<table border=\"1\" class=\"dataframe\">\n",
       "  <thead>\n",
       "    <tr style=\"text-align: right;\">\n",
       "      <th></th>\n",
       "      <th>price</th>\n",
       "    </tr>\n",
       "  </thead>\n",
       "  <tbody>\n",
       "    <tr>\n",
       "      <th>count</th>\n",
       "      <td>2.161300e+04</td>\n",
       "    </tr>\n",
       "    <tr>\n",
       "      <th>mean</th>\n",
       "      <td>5.400881e+05</td>\n",
       "    </tr>\n",
       "    <tr>\n",
       "      <th>std</th>\n",
       "      <td>3.671272e+05</td>\n",
       "    </tr>\n",
       "    <tr>\n",
       "      <th>min</th>\n",
       "      <td>7.500000e+04</td>\n",
       "    </tr>\n",
       "    <tr>\n",
       "      <th>25%</th>\n",
       "      <td>3.219500e+05</td>\n",
       "    </tr>\n",
       "    <tr>\n",
       "      <th>50%</th>\n",
       "      <td>4.500000e+05</td>\n",
       "    </tr>\n",
       "    <tr>\n",
       "      <th>75%</th>\n",
       "      <td>6.450000e+05</td>\n",
       "    </tr>\n",
       "    <tr>\n",
       "      <th>max</th>\n",
       "      <td>7.700000e+06</td>\n",
       "    </tr>\n",
       "  </tbody>\n",
       "</table>\n",
       "</div>"
      ],
      "text/plain": [
       "              price\n",
       "count  2.161300e+04\n",
       "mean   5.400881e+05\n",
       "std    3.671272e+05\n",
       "min    7.500000e+04\n",
       "25%    3.219500e+05\n",
       "50%    4.500000e+05\n",
       "75%    6.450000e+05\n",
       "max    7.700000e+06"
      ]
     },
     "execution_count": 3,
     "metadata": {},
     "output_type": "execute_result"
    }
   ],
   "source": [
    "data[['price']].describe().round(5)"
   ]
  },
  {
   "cell_type": "markdown",
   "metadata": {},
   "source": [
    "There are 21,613 house prices recorded, with the minimum price of 75,000 dollars and the maximum price of 7,700,000 dollars. Therefore, the range of the data is 7,625,000 dollars. The first, second, and third quartiles, which are the remaining three figures of five-numbered summary, are 321,950, 450,000,and 645,000 dollars, respectively, thus giving the interquartile range of 323,050 dollars. With the significantly larger gap between the third quartile and the maximum amount comparing to other consecutive pairs of figures, it can be expected that the data is quite right-skewed. "
   ]
  },
  {
   "cell_type": "code",
   "execution_count": 4,
   "metadata": {},
   "outputs": [
    {
     "data": {
      "image/png": "[encoded data removed]",
      "text/plain": [
       "<Figure size 432x288 with 1 Axes>"
      ]
     },
     "metadata": {
      "needs_background": "light"
     },
     "output_type": "display_data"
    }
   ],
   "source": [
    "ax = plt.hist(data['price'])"
   ]
  },
  {
   "cell_type": "code",
   "execution_count": 5,
   "metadata": {},
   "outputs": [
    {
     "data": {
      "text/plain": [
       "<matplotlib.axes._subplots.AxesSubplot at 0x170baeba910>"
      ]
     },
     "execution_count": 5,
     "metadata": {},
     "output_type": "execute_result"
    },
    {
     "data": {
      "image/png": "[encoded data removed]",
      "text/plain": [
       "<Figure size 432x288 with 1 Axes>"
      ]
     },
     "metadata": {
      "needs_background": "light"
     },
     "output_type": "display_data"
    }
   ],
   "source": [
    "sns.distplot(data['price'], kde=False)"
   ]
  },
  {
   "cell_type": "code",
   "execution_count": 6,
   "metadata": {},
   "outputs": [
    {
     "data": {
      "image/png": "[encoded data removed]",
      "text/plain": [
       "<Figure size 432x288 with 1 Axes>"
      ]
     },
     "metadata": {
      "needs_background": "light"
     },
     "output_type": "display_data"
    }
   ],
   "source": [
    "ax = sns.boxplot(y= 'price', data=data, palette= 'Blues', showmeans= True)"
   ]
  },
  {
   "cell_type": "code",
   "execution_count": 7,
   "metadata": {},
   "outputs": [
    {
     "data": {
      "text/plain": [
       "DescribeResult(nobs=21613, minmax=(75000, 7700000), mean=540088.1417665294, variance=134782378397.24687, skewness=4.023789858140135, kurtosis=34.577262255687536)"
      ]
     },
     "execution_count": 7,
     "metadata": {},
     "output_type": "execute_result"
    }
   ],
   "source": [
    "from scipy import stats\n",
    "stats.describe(data['price'])"
   ]
  },
  {
   "cell_type": "markdown",
   "metadata": {},
   "source": [
    "Graphical representations from the histogram and the boxplot has demonstrated the expected right skewness of the house prices data, which is further supported by reported skewness of 4.02 and kurtosis of 34.58 (this is extremely larger than 3). On average, customers spend approximately 540,088 dollars for a house with the standard deviation of 367,127.1965 dollars. There are some considerable outliers in the right tail of the distribution."
   ]
  },
  {
   "cell_type": "markdown",
   "metadata": {},
   "source": [
    "Exploratory analysis for waterfront location"
   ]
  },
  {
   "cell_type": "code",
   "execution_count": 8,
   "metadata": {},
   "outputs": [
    {
     "data": {
      "text/html": [
       "<div>\n",
       "<style scoped>\n",
       "    .dataframe tbody tr th:only-of-type {\n",
       "        vertical-align: middle;\n",
       "    }\n",
       "\n",
       "    .dataframe tbody tr th {\n",
       "        vertical-align: top;\n",
       "    }\n",
       "\n",
       "    .dataframe thead th {\n",
       "        text-align: right;\n",
       "    }\n",
       "</style>\n",
       "<table border=\"1\" class=\"dataframe\">\n",
       "  <thead>\n",
       "    <tr style=\"text-align: right;\">\n",
       "      <th></th>\n",
       "      <th>waterfront</th>\n",
       "    </tr>\n",
       "  </thead>\n",
       "  <tbody>\n",
       "    <tr>\n",
       "      <th>count</th>\n",
       "      <td>21613.00000</td>\n",
       "    </tr>\n",
       "    <tr>\n",
       "      <th>mean</th>\n",
       "      <td>0.00754</td>\n",
       "    </tr>\n",
       "    <tr>\n",
       "      <th>std</th>\n",
       "      <td>0.08652</td>\n",
       "    </tr>\n",
       "    <tr>\n",
       "      <th>min</th>\n",
       "      <td>0.00000</td>\n",
       "    </tr>\n",
       "    <tr>\n",
       "      <th>25%</th>\n",
       "      <td>0.00000</td>\n",
       "    </tr>\n",
       "    <tr>\n",
       "      <th>50%</th>\n",
       "      <td>0.00000</td>\n",
       "    </tr>\n",
       "    <tr>\n",
       "      <th>75%</th>\n",
       "      <td>0.00000</td>\n",
       "    </tr>\n",
       "    <tr>\n",
       "      <th>max</th>\n",
       "      <td>1.00000</td>\n",
       "    </tr>\n",
       "  </tbody>\n",
       "</table>\n",
       "</div>"
      ],
      "text/plain": [
       "        waterfront\n",
       "count  21613.00000\n",
       "mean       0.00754\n",
       "std        0.08652\n",
       "min        0.00000\n",
       "25%        0.00000\n",
       "50%        0.00000\n",
       "75%        0.00000\n",
       "max        1.00000"
      ]
     },
     "execution_count": 8,
     "metadata": {},
     "output_type": "execute_result"
    }
   ],
   "source": [
    "data[['waterfront']].describe().round(5)"
   ]
  },
  {
   "cell_type": "code",
   "execution_count": 9,
   "metadata": {},
   "outputs": [
    {
     "data": {
      "text/plain": [
       "waterfront    163\n",
       "dtype: int64"
      ]
     },
     "execution_count": 9,
     "metadata": {},
     "output_type": "execute_result"
    }
   ],
   "source": [
    "data[['waterfront']].sum()"
   ]
  },
  {
   "cell_type": "markdown",
   "metadata": {},
   "source": [
    "There are 163 1s recorded, and this means that house with waterfront only accounts for 163/21613=0.00754, or 0.754% in the sample. The figure aligns with the mean obtained from the data description table. Therefore, almost all observations (99.246%) do not have a waterfront location. This finding may be due to random sampling, or more intuitively, we can reasonably expect there would be a higher number of houses without waterfront as there might not be many feasible locations with waterfront to build houses.    "
   ]
  },
  {
   "cell_type": "markdown",
   "metadata": {},
   "source": [
    "Joint exploratory analysis for waterfront location and house price"
   ]
  },
  {
   "cell_type": "code",
   "execution_count": 10,
   "metadata": {},
   "outputs": [
    {
     "data": {
      "image/png": "[encoded data removed]",
      "text/plain": [
       "<Figure size 432x288 with 1 Axes>"
      ]
     },
     "metadata": {
      "needs_background": "light"
     },
     "output_type": "display_data"
    }
   ],
   "source": [
    "ax = sns.boxplot(x='waterfront', y='price', data=data, palette='Blues', showmeans= True)"
   ]
  },
  {
   "cell_type": "code",
   "execution_count": 11,
   "metadata": {},
   "outputs": [
    {
     "data": {
      "text/plain": [
       "count    2.145000e+04\n",
       "mean     5.315636e+05\n",
       "std      3.415996e+05\n",
       "min      7.500000e+04\n",
       "25%      3.200000e+05\n",
       "50%      4.500000e+05\n",
       "75%      6.398970e+05\n",
       "max      7.700000e+06\n",
       "Name: price, dtype: float64"
      ]
     },
     "execution_count": 11,
     "metadata": {},
     "output_type": "execute_result"
    }
   ],
   "source": [
    "data.loc[data['waterfront']== 0, 'price'].describe()"
   ]
  },
  {
   "cell_type": "code",
   "execution_count": 12,
   "metadata": {},
   "outputs": [
    {
     "data": {
      "text/plain": [
       "count    1.630000e+02\n",
       "mean     1.661876e+06\n",
       "std      1.120372e+06\n",
       "min      2.850000e+05\n",
       "25%      7.600000e+05\n",
       "50%      1.400000e+06\n",
       "75%      2.215000e+06\n",
       "max      7.062500e+06\n",
       "Name: price, dtype: float64"
      ]
     },
     "execution_count": 12,
     "metadata": {},
     "output_type": "execute_result"
    }
   ],
   "source": [
    "data.loc[data['waterfront']== 1, 'price'].describe()"
   ]
  },
  {
   "cell_type": "code",
   "execution_count": 13,
   "metadata": {},
   "outputs": [
    {
     "data": {
      "text/plain": [
       "DescribeResult(nobs=21450, minmax=(75000, 7700000), mean=531563.5998135199, variance=116690279653.07115, skewness=3.654989000312272, kurtosis=31.377220837393942)"
      ]
     },
     "execution_count": 13,
     "metadata": {},
     "output_type": "execute_result"
    }
   ],
   "source": [
    "stats.describe(data.loc[data['waterfront']== 0, 'price'])"
   ]
  },
  {
   "cell_type": "code",
   "execution_count": 14,
   "metadata": {},
   "outputs": [
    {
     "data": {
      "text/plain": [
       "DescribeResult(nobs=163, minmax=(285000, 7062500), mean=1661876.0245398772, variance=1255232816099.802, skewness=1.4427023109648562, kurtosis=3.127041653743727)"
      ]
     },
     "execution_count": 14,
     "metadata": {},
     "output_type": "execute_result"
    }
   ],
   "source": [
    "stats.describe(data.loc[data['waterfront']== 1, 'price'])"
   ]
  },
  {
   "cell_type": "code",
   "execution_count": 15,
   "metadata": {},
   "outputs": [
    {
     "data": {
      "text/plain": [
       "1130312.4247263572"
      ]
     },
     "execution_count": 15,
     "metadata": {},
     "output_type": "execute_result"
    }
   ],
   "source": [
    "meandiff=1661876.0245398772 -  531563.5998135199\n",
    "meandiff"
   ]
  },
  {
   "cell_type": "markdown",
   "metadata": {},
   "source": [
    "From the statistics summary, people who do not live in the waterfront area tend to spend about $531,563$ dollars for a house on average, whereas the corresponding figure in the waterfront area is $1,661,876$ dollars. The difference between the two figures is approximately $1,130,312$ dollars, which might be considerable. Moreover, the graphical representation also suggests the same pattern: the means of both groups seem to be not on the same level when scaled on one graph. Also, it is notable that data from both groups are quite right-skewed with the kurtosises obtained all greater than 3 and the  statistics are supported by outliers observed in the boxplots."
   ]
  },
  {
   "cell_type": "markdown",
   "metadata": {},
   "source": [
    "No data cleaning is performed due to several reasons:\n",
    "\n",
    "1/No probable wrong records are observed in the data (i.e. no data is abnormally different regarding size from the others in the same random variables).\n",
    "\n",
    "2/All the data have clear headings and units.\n",
    "\n",
    "3/Unreasonably remove outliers would distort the observed relationship and correctness of random variables. As a result, wrong interpretation would occur and undermine the value of data."
   ]
  },
  {
   "cell_type": "markdown",
   "metadata": {},
   "source": [
    "### Part 2: Perform hypothesis tests "
   ]
  },
  {
   "cell_type": "markdown",
   "metadata": {},
   "source": [
    "### t-test"
   ]
  },
  {
   "cell_type": "code",
   "execution_count": 16,
   "metadata": {},
   "outputs": [
    {
     "data": {
      "text/plain": [
       "Ttest_indResult(statistic=12.875876891278113, pvalue=1.3791122647490577e-26)"
      ]
     },
     "execution_count": 16,
     "metadata": {},
     "output_type": "execute_result"
    }
   ],
   "source": [
    "stats.ttest_ind(data.loc[data['waterfront']== 1, 'price'],data.loc[data['waterfront']==0, 'price'], equal_var = False)"
   ]
  },
  {
   "cell_type": "code",
   "execution_count": 44,
   "metadata": {},
   "outputs": [
    {
     "name": "stdout",
     "output_type": "stream",
     "text": [
      "162.22896438139523\n"
     ]
    }
   ],
   "source": [
    "variance0 = 116690279653.07115\n",
    "variance1 = 1255232816099.802\n",
    "n0 = 21450\n",
    "n1 = 163\n",
    "df = (variance0/n0+variance1/n1)**2/((variance0/n0)**2/(n0-1)+(variance1/n1)**2/(n1-1))\n",
    "print(df)"
   ]
  },
  {
   "cell_type": "markdown",
   "metadata": {},
   "source": [
    "The hypotheses are:\n",
    "\n",
    "$H_0 : \\mu_{Waterfront} = \\mu_{NoWaterfront}$ (the mean of price of houses with waterfront is equal to that of houses without waterfront)\n",
    "\n",
    "$H_1 : \\mu_{Waterfront} > \\mu_{NoWaterfront}$ (the mean of price of houses with waterfront is larger than that of houses without waterfront)\n",
    "\n",
    "Choose alpha = 0.05 as standard\n",
    "\n",
    "The test statistic is 12.88, which follows a student-t distribution with approximately 162 degrees of freedom, provided the null hypothesis of equality, and the assumptions are, true. \n",
    "\n",
    "Since this is one-sided test, the p-value obtained is $P(t_{162}>12.88) =  (1.38 \\times 10^{-26}) / 2 = 0.69 \\times 10^{-26}$. At 5%  level of significance, we reject the null hypothesis and conclude that the mean of price of houses with waterfront is significant higher than that of houses without waterfront. \n"
   ]
  },
  {
   "cell_type": "markdown",
   "metadata": {},
   "source": [
    "The assumptions made are:\n",
    "\n",
    "1/The data are independent and identically distributed in each group. This requires that each random variable has identical probability distribution and is mutually independent, which is not obvious without a clear description of the sampling process. However, we may assume it to be true in this case. \n",
    "\n",
    "2/The prices of houses are independent of one another, or price set of one house does not influence the value estimate of the others. Without clear description of the sampling process, we cannot validify with certainty, but we may assume it to be true in this case.  \n",
    "\n",
    "3/Each group is normally distributed or the Central Limit Theorem holds: price is a bounded variable. It is reasonable that this variable has a lower bound of zero. Also, since the number of houses are limited and residents only have finite amounts of money, we can broadly accept that house price implicitly has an upper bound. Therefore, the fourth monent of this variable is finite, thus making the assumption valid. However, it is still worth taking into consideration that the exploratory analysis indicates a right-skewed distribution of the sample with numerous outliers for any decision-making. Finally, with the sizes of 163 and 21450, each group's sample size is large enough for the Central Limit Theorem (CLT) to work.  "
   ]
  },
  {
   "cell_type": "markdown",
   "metadata": {},
   "source": [
    "### Median test"
   ]
  },
  {
   "cell_type": "code",
   "execution_count": 18,
   "metadata": {},
   "outputs": [
    {
     "data": {
      "text/plain": [
       "(122.15026644045584,\n",
       " 2.140001560122751e-28,\n",
       " 450000.0,\n",
       " array([[  152, 10597],\n",
       "        [   11, 10681]], dtype=int64))"
      ]
     },
     "execution_count": 18,
     "metadata": {},
     "output_type": "execute_result"
    }
   ],
   "source": [
    "from scipy.stats import median_test\n",
    "median_test(data.loc[data['waterfront']== 1, 'price'],data.loc[data['waterfront']==0, 'price'], ties = 'ignore', correction = False)"
   ]
  },
  {
   "cell_type": "markdown",
   "metadata": {},
   "source": [
    "Since the median test only gives the two-sided p-value, the two-sided test is formed and illustrated below.\n",
    "\n",
    "The hypotheses are:\n",
    "\n",
    "$H_0 : Median_{0} = Median_{1}$ (the median of price of houses with waterfront  equal to that of houses without waterfront)\n",
    " \n",
    "$H_1 : Median_{0} \\neq Median_{1}$ (the median of price of houses with waterfront is not equal to that of houses without waterfront)\n",
    "\n",
    "Choose alpha = 0.05 as standard\n",
    "\n",
    "The test statistic is 122.15. Under the null hypothesis, this statitic follows a chi-squared distribution with 1 degree of freedom provided the assumptions are true. In this case, the p-value is a $P(\\chi^2_1 > 122.15) = 2.14\\times10^{-28}$. This is $<0.05$, thus we can reject the null hypothesis and conclude that the median of price of houses with waterfront is significantly different from that of houses without waterfront.\n",
    "\n"
   ]
  },
  {
   "cell_type": "code",
   "execution_count": 19,
   "metadata": {},
   "outputs": [
    {
     "data": {
      "text/plain": [
       "(122.15026644045584,\n",
       " 2.140001560122751e-28,\n",
       " 1,\n",
       " array([[   81.71666433, 10667.28333567],\n",
       "        [   81.28333567, 10610.71666433]]))"
      ]
     },
     "execution_count": 19,
     "metadata": {},
     "output_type": "execute_result"
    }
   ],
   "source": [
    "tab = np.array([[152, 10597], [11,10681]])\n",
    "stats.chi2_contingency(tab, correction = False)"
   ]
  },
  {
   "cell_type": "markdown",
   "metadata": {},
   "source": [
    "The assumptions made are:\n",
    "\n",
    "1/The data are independent and identically distributed in each group. This requires that each random variable has identical probability distribution and is mutually independent, which is not obvious without a clear description of the sampling process. However, we may assume it to be true in this case. \n",
    "\n",
    "2/The prices of houses are independent of one another, or price set of one house does not influence the value estimate of the others. Without clear description of the sampling process, we cannot validify with certainty, but we may assume it to be true in this case.  \n",
    "\n",
    "3/Data are at least on the ordinal scale. This is satisfied since the the values recorded are numerical, which means that a median is identifiable.\n",
    "\n",
    "Besides, it is necessary that the assumptions of the Pearson's chi-square test hold:\n",
    "\n",
    "1/Each observed cross-tab count of the contingency table is a counting independent event. It can be violated if price of a house obtained is influenced by that of the other house (e.g. the owners may discuss about values of their real estate). Therefore, this assumption can not be validified withouth a clear description of the way the sample was collected. Hence, we assume it to be true. \n",
    "\n",
    "2/Each observed cross-tab count of the contingency table follows a Poisson distribution. This assumption can not be validified withouth a clear description of the way the sample was collected. Hence, we assume it to be true.\n",
    "\n",
    "3/Each cell in the contigency table has expected value at least 5. This is satisfied since, from the output, the lowest expected number obtained is 81.28."
   ]
  },
  {
   "cell_type": "markdown",
   "metadata": {},
   "source": [
    "### Mann-whitney test"
   ]
  },
  {
   "cell_type": "code",
   "execution_count": 20,
   "metadata": {},
   "outputs": [
    {
     "data": {
      "text/plain": [
       "MannwhitneyuResult(statistic=3090831.0, pvalue=1.6215210391178017e-64)"
      ]
     },
     "execution_count": 20,
     "metadata": {},
     "output_type": "execute_result"
    }
   ],
   "source": [
    "from scipy.stats import mannwhitneyu\n",
    "mannwhitneyu(data.loc[data['waterfront']== 1, 'price'],data.loc[data['waterfront']==0, 'price'], alternative = 'greater')"
   ]
  },
  {
   "cell_type": "markdown",
   "metadata": {},
   "source": [
    "The hypotheses are:\n",
    "\n",
    "$H_0 : P(Y_{1} > Y_{0}) = 0.5 $ (Price of house with waterfront has the same distribution as that without waterfront)\n",
    "\n",
    "$H_1 : P(Y_{1} > Y_{0}) > 0.5 $ (Price of house with waterfront has a distribution shifted upwards compared to that without waterfront)\n",
    "\n",
    "*$Y_{0}$ is the random variable from price of house without waterfront; $Y_{1}$ is the random variable from price of house with waterfront.\n",
    "\n",
    "Choose alpha =0.05 as standard\n",
    "\n",
    "The test statistic is $U=3090831$, which under the null follows a large sample normal distribution with mean and variance given by the test provided the assumptions are also true. In this case, the p-value is $P(U>3090831) = 1.62 \\times 10^{-64}$, where the mean and the variance are specified in the test. This is <0.05, so we can reject the null hypothesis, and conclude that the waterfront area has a significant effect on the distribution of the house price volatility. More specifically, price of house with waterfront is expected to be higher than that of house without waterfront.\n",
    "\n",
    "The assumptions made are:\n",
    "\n",
    "1/The data are independent and identically distributed in each group. This requires that each random variable has identical probability distribution and is mutually independent, which is not obvious without a clear description of the sampling process. However, we may assume it to be true in this case. \n",
    "\n",
    "2/The prices of houses are independent of one another, or price set of one house does not influence the value estimate of the others. Without clear description of the sampling process, we cannot validify with certainty, but we may assume it to be true in this case.  \n",
    " \n",
    "3/Data are at least on the ordinal scale (or $P(Y_{1}>Y_{0}) > 0$ makes sense). This is satisfied since the the values recorded are numerical, which means that a median is identifiable. From another perspective, the comparison $P(Y_{1}>Y_{0}) > 0$ makes sense since both are numerical and continuous random variables.\n",
    "\n",
    "4/Each group's sample size has to be at least 8 for the Central Limit Theorem (CLT) to work. The assumption is satisfied here with smallest value obtained of 163. \n"
   ]
  },
  {
   "cell_type": "markdown",
   "metadata": {},
   "source": [
    "## Part 3: Consensus on three tests perfomed"
   ]
  },
  {
   "cell_type": "markdown",
   "metadata": {},
   "source": [
    "All three tests need unclear assumptions regarding the idependence and identical distribution of data, and independence between two groups, but they can be broadly accepted. Nevertheless, with the t-test, the 4th moment assumption is still considerable given the long tail and large kurtosis observed from the graph and the statistics description. Therefore, it may be preferrable that the median test or Mann-whitney test are considered here, given the fact that they are highly robust to to outliers and shapes of the distributions. Regarding these two, it can be suggested that the Mann-whitney test is chosen since the remaining two Mann-whitney assumptions regarding sample size and data scale are clearly satisfied, whereas some Pearson's test assumptions from the median test are still questionable. Furthermore, the Mann-whitney has much higher power than the median test, and the median test does not directly address the question asked (i.e. it only indicates the difference between the two groups but cannot tell which group may have higher median due to lack of one-tailed test). \n",
    "Above all, it should be noted that all three tests reject the null hypothesis and confirm that that there is a significant difference in house prices betweem two areas. Although the Mann-whitney seems to be best option here, it is also worth conducting other types of test to gain a better understanding of the data collected and be more certain about the decision made."
   ]
  },
  {
   "cell_type": "markdown",
   "metadata": {},
   "source": [
    "## Part 4: Conduct Exploratory Analysis to detect possible Linear relationship"
   ]
  },
  {
   "cell_type": "code",
   "execution_count": 21,
   "metadata": {},
   "outputs": [
    {
     "data": {
      "text/html": [
       "<div>\n",
       "<style scoped>\n",
       "    .dataframe tbody tr th:only-of-type {\n",
       "        vertical-align: middle;\n",
       "    }\n",
       "\n",
       "    .dataframe tbody tr th {\n",
       "        vertical-align: top;\n",
       "    }\n",
       "\n",
       "    .dataframe thead th {\n",
       "        text-align: right;\n",
       "    }\n",
       "</style>\n",
       "<table border=\"1\" class=\"dataframe\">\n",
       "  <thead>\n",
       "    <tr style=\"text-align: right;\">\n",
       "      <th></th>\n",
       "      <th>sqm_living</th>\n",
       "    </tr>\n",
       "  </thead>\n",
       "  <tbody>\n",
       "    <tr>\n",
       "      <th>count</th>\n",
       "      <td>21613.00000</td>\n",
       "    </tr>\n",
       "    <tr>\n",
       "      <th>mean</th>\n",
       "      <td>193.22740</td>\n",
       "    </tr>\n",
       "    <tr>\n",
       "      <th>std</th>\n",
       "      <td>85.32524</td>\n",
       "    </tr>\n",
       "    <tr>\n",
       "      <th>min</th>\n",
       "      <td>26.94166</td>\n",
       "    </tr>\n",
       "    <tr>\n",
       "      <th>25%</th>\n",
       "      <td>132.57153</td>\n",
       "    </tr>\n",
       "    <tr>\n",
       "      <th>50%</th>\n",
       "      <td>177.44333</td>\n",
       "    </tr>\n",
       "    <tr>\n",
       "      <th>75%</th>\n",
       "      <td>236.90078</td>\n",
       "    </tr>\n",
       "    <tr>\n",
       "      <th>max</th>\n",
       "      <td>1257.89669</td>\n",
       "    </tr>\n",
       "  </tbody>\n",
       "</table>\n",
       "</div>"
      ],
      "text/plain": [
       "        sqm_living\n",
       "count  21613.00000\n",
       "mean     193.22740\n",
       "std       85.32524\n",
       "min       26.94166\n",
       "25%      132.57153\n",
       "50%      177.44333\n",
       "75%      236.90078\n",
       "max     1257.89669"
      ]
     },
     "execution_count": 21,
     "metadata": {},
     "output_type": "execute_result"
    }
   ],
   "source": [
    "data[['sqm_living']].describe().round(5)"
   ]
  },
  {
   "cell_type": "markdown",
   "metadata": {},
   "source": [
    "The average are of houses is $193.23m^{2}$ with the standard deviation of $85.33m^{2}$ . The smallest house recorded in the sample has an are $26.94m^{2}$, which is approximately 46.69 times smaller than that of the largest house."
   ]
  },
  {
   "cell_type": "code",
   "execution_count": 22,
   "metadata": {},
   "outputs": [
    {
     "data": {
      "image/png": "[encoded data removed]",
      "text/plain": [
       "<Figure size 432x288 with 1 Axes>"
      ]
     },
     "metadata": {
      "needs_background": "light"
     },
     "output_type": "display_data"
    }
   ],
   "source": [
    "ax = sns.boxplot(y= 'sqm_living', data=data, palette= 'Blues', showmeans= True)"
   ]
  },
  {
   "cell_type": "code",
   "execution_count": 23,
   "metadata": {},
   "outputs": [
    {
     "data": {
      "text/plain": [
       "DescribeResult(nobs=21613, minmax=(26.94165738, 1257.896693), mean=193.2274002478402, variance=7280.396798094733, skewness=1.4714532950012835, kurtosis=5.241602522489551)"
      ]
     },
     "execution_count": 23,
     "metadata": {},
     "output_type": "execute_result"
    }
   ],
   "source": [
    "stats.describe(data['sqm_living'])"
   ]
  },
  {
   "cell_type": "code",
   "execution_count": 24,
   "metadata": {},
   "outputs": [
    {
     "data": {
      "image/png": "[encoded data removed]",
      "text/plain": [
       "<Figure size 432x288 with 1 Axes>"
      ]
     },
     "metadata": {
      "needs_background": "light"
     },
     "output_type": "display_data"
    }
   ],
   "source": [
    "ax=plt.hist(data['sqm_living'])"
   ]
  },
  {
   "cell_type": "code",
   "execution_count": 25,
   "metadata": {},
   "outputs": [
    {
     "data": {
      "text/plain": [
       "<matplotlib.axes._subplots.AxesSubplot at 0x170bb199eb0>"
      ]
     },
     "execution_count": 25,
     "metadata": {},
     "output_type": "execute_result"
    },
    {
     "data": {
      "image/png": "[encoded data removed]",
      "text/plain": [
       "<Figure size 432x288 with 1 Axes>"
      ]
     },
     "metadata": {
      "needs_background": "light"
     },
     "output_type": "display_data"
    }
   ],
   "source": [
    "sns.distplot(data['sqm_living'], kde=False)"
   ]
  },
  {
   "cell_type": "markdown",
   "metadata": {},
   "source": [
    "The histogram indicates that the data of house areas is right-skewed with significant long right tail. The kurtosis is reported as 5.24, supporting the graphical representation of the graph."
   ]
  },
  {
   "cell_type": "markdown",
   "metadata": {},
   "source": [
    "Exploratory analysis for relationship of house area and price"
   ]
  },
  {
   "cell_type": "code",
   "execution_count": 26,
   "metadata": {},
   "outputs": [
    {
     "data": {
      "text/plain": [
       "<matplotlib.collections.PathCollection at 0x170bb28fa00>"
      ]
     },
     "execution_count": 26,
     "metadata": {},
     "output_type": "execute_result"
    },
    {
     "data": {
      "image/png": "[encoded data removed]",
      "text/plain": [
       "<Figure size 432x288 with 1 Axes>"
      ]
     },
     "metadata": {
      "needs_background": "light"
     },
     "output_type": "display_data"
    }
   ],
   "source": [
    "plt.scatter(x=data['sqm_living'], y=data['price'])"
   ]
  },
  {
   "cell_type": "code",
   "execution_count": 27,
   "metadata": {},
   "outputs": [
    {
     "data": {
      "text/plain": [
       "array([[1.        , 0.70203505],\n",
       "       [0.70203505, 1.        ]])"
      ]
     },
     "execution_count": 27,
     "metadata": {},
     "output_type": "execute_result"
    }
   ],
   "source": [
    "np.corrcoef(x= data['sqm_living'], y= data['price'])"
   ]
  },
  {
   "cell_type": "code",
   "execution_count": 28,
   "metadata": {},
   "outputs": [
    {
     "name": "stderr",
     "output_type": "stream",
     "text": [
      "C:\\Users\\ASUS\\anaconda3\\lib\\site-packages\\seaborn\\axisgrid.py:1840: UserWarning: JointGrid annotation is deprecated and will be removed in a future release.\n",
      "  warnings.warn(UserWarning(msg))\n"
     ]
    },
    {
     "data": {
      "text/plain": [
       "<seaborn.axisgrid.JointGrid at 0x170bb2d1f40>"
      ]
     },
     "execution_count": 28,
     "metadata": {},
     "output_type": "execute_result"
    },
    {
     "data": {
      "image/png": "[encoded data removed]",
      "text/plain": [
       "<Figure size 432x432 with 3 Axes>"
      ]
     },
     "metadata": {
      "needs_background": "light"
     },
     "output_type": "display_data"
    }
   ],
   "source": [
    "sns.jointplot(x=data['sqm_living'], y=data['price'], kind=\"reg\").annotate(stats.pearsonr)"
   ]
  },
  {
   "cell_type": "markdown",
   "metadata": {},
   "source": [
    "The scatterplot suggests that there seems to be a relationship between the area of a house and its price. More specifically, from the plot, it is reasonable to state that an increase in area would lead to an increase in price of house. In support of the graph, in terms of the strength and direction of fit, the correlation coefficient between two varibles, which is 0.7, also indicates there is a quite strong positive linear relationship. Also, the correlation is highly considerably different to 0 (p-val = 0) For further insight information, a simple linear regression using OLS model is carried out."
   ]
  },
  {
   "cell_type": "code",
   "execution_count": 29,
   "metadata": {},
   "outputs": [
    {
     "data": {
      "text/plain": [
       "[<matplotlib.lines.Line2D at 0x170bd0af5e0>]"
      ]
     },
     "execution_count": 29,
     "metadata": {},
     "output_type": "execute_result"
    },
    {
     "data": {
      "image/png": "[encoded data removed]",
      "text/plain": [
       "<Figure size 432x288 with 1 Axes>"
      ]
     },
     "metadata": {
      "needs_background": "light"
     },
     "output_type": "display_data"
    }
   ],
   "source": [
    "import statsmodels.api as sm\n",
    "lowess = sm.nonparametric.lowess\n",
    "plt.scatter(data['sqm_living'],data['price'])\n",
    "z1 = lowess(data['price'], data['sqm_living'], frac=1./5)  \n",
    "plt.plot(z1[:,0],z1[:,1],'red')\n"
   ]
  },
  {
   "cell_type": "markdown",
   "metadata": {},
   "source": [
    "Let $A$ is the random variable of house area, and $P$ is the random variable of house price"
   ]
  },
  {
   "cell_type": "markdown",
   "metadata": {},
   "source": [
    "Regarding the apporiateness of a linear model here, the initial plot tends to support this idea. A \"lowess\" locally-smoothed regresiion curve fit through the data indicates linearity up $A = 300m^{2}$, and the line becomes steeper afterwards. This may or may not be becasue of \"end effects\" with the presence of many observations with large areas and high prices  and few observations with large areas and low prices at the top right of the graph. Still, overall the pattern seems to be linear and smooth, and there is not any significant indication of other fitted models. "
   ]
  },
  {
   "cell_type": "markdown",
   "metadata": {},
   "source": [
    "## Part 5: Simple Linear Regression Analysis"
   ]
  },
  {
   "cell_type": "markdown",
   "metadata": {},
   "source": [
    "No data cleaning is performed due to several reasons:\n",
    "\n",
    "1/No probable wrong records are observed in the data (i.e. no data is abnormally different regarding size from the others in the same random variables).\n",
    "\n",
    "2/All the data have clear headings and units.\n",
    "\n",
    "3/Unreasonably remove outliers would distort the observed relationship and correctness of random variables. As a result, wrong interpretation would occur and undermine the value of data."
   ]
  },
  {
   "cell_type": "markdown",
   "metadata": {},
   "source": [
    "Ordinary Least Squares (OLS)"
   ]
  },
  {
   "cell_type": "code",
   "execution_count": 30,
   "metadata": {},
   "outputs": [
    {
     "data": {
      "text/html": [
       "<table class=\"simpletable\">\n",
       "<caption>OLS Regression Results</caption>\n",
       "<tr>\n",
       "  <th>Dep. Variable:</th>          <td>price</td>      <th>  R-squared:         </th>  <td>   0.493</td>  \n",
       "</tr>\n",
       "<tr>\n",
       "  <th>Model:</th>                   <td>OLS</td>       <th>  Adj. R-squared:    </th>  <td>   0.493</td>  \n",
       "</tr>\n",
       "<tr>\n",
       "  <th>Method:</th>             <td>Least Squares</td>  <th>  F-statistic:       </th>  <td>2.100e+04</td> \n",
       "</tr>\n",
       "<tr>\n",
       "  <th>Date:</th>             <td>Sun, 04 Apr 2021</td> <th>  Prob (F-statistic):</th>   <td>  0.00</td>   \n",
       "</tr>\n",
       "<tr>\n",
       "  <th>Time:</th>                 <td>18:19:38</td>     <th>  Log-Likelihood:    </th> <td>-3.0027e+05</td>\n",
       "</tr>\n",
       "<tr>\n",
       "  <th>No. Observations:</th>      <td> 21613</td>      <th>  AIC:               </th>  <td>6.005e+05</td> \n",
       "</tr>\n",
       "<tr>\n",
       "  <th>Df Residuals:</th>          <td> 21611</td>      <th>  BIC:               </th>  <td>6.006e+05</td> \n",
       "</tr>\n",
       "<tr>\n",
       "  <th>Df Model:</th>              <td>     1</td>      <th>                     </th>      <td> </td>     \n",
       "</tr>\n",
       "<tr>\n",
       "  <th>Covariance Type:</th>      <td>nonrobust</td>    <th>                     </th>      <td> </td>     \n",
       "</tr>\n",
       "</table>\n",
       "<table class=\"simpletable\">\n",
       "<tr>\n",
       "       <td></td>         <th>coef</th>     <th>std err</th>      <th>t</th>      <th>P>|t|</th>  <th>[0.025</th>    <th>0.975]</th>  \n",
       "</tr>\n",
       "<tr>\n",
       "  <th>Intercept</th>  <td>-4.358e+04</td> <td> 4402.690</td> <td>   -9.899</td> <td> 0.000</td> <td>-5.22e+04</td> <td> -3.5e+04</td>\n",
       "</tr>\n",
       "<tr>\n",
       "  <th>sqm_living</th> <td> 3020.6321</td> <td>   20.843</td> <td>  144.920</td> <td> 0.000</td> <td> 2979.777</td> <td> 3061.487</td>\n",
       "</tr>\n",
       "</table>\n",
       "<table class=\"simpletable\">\n",
       "<tr>\n",
       "  <th>Omnibus:</th>       <td>14832.490</td> <th>  Durbin-Watson:     </th>  <td>   1.983</td> \n",
       "</tr>\n",
       "<tr>\n",
       "  <th>Prob(Omnibus):</th>  <td> 0.000</td>   <th>  Jarque-Bera (JB):  </th> <td>546444.713</td>\n",
       "</tr>\n",
       "<tr>\n",
       "  <th>Skew:</th>           <td> 2.824</td>   <th>  Prob(JB):          </th>  <td>    0.00</td> \n",
       "</tr>\n",
       "<tr>\n",
       "  <th>Kurtosis:</th>       <td>26.977</td>   <th>  Cond. No.          </th>  <td>    523.</td> \n",
       "</tr>\n",
       "</table><br/><br/>Warnings:<br/>[1] Standard Errors assume that the covariance matrix of the errors is correctly specified."
      ],
      "text/plain": [
       "<class 'statsmodels.iolib.summary.Summary'>\n",
       "\"\"\"\n",
       "                            OLS Regression Results                            \n",
       "==============================================================================\n",
       "Dep. Variable:                  price   R-squared:                       0.493\n",
       "Model:                            OLS   Adj. R-squared:                  0.493\n",
       "Method:                 Least Squares   F-statistic:                 2.100e+04\n",
       "Date:                Sun, 04 Apr 2021   Prob (F-statistic):               0.00\n",
       "Time:                        18:19:38   Log-Likelihood:            -3.0027e+05\n",
       "No. Observations:               21613   AIC:                         6.005e+05\n",
       "Df Residuals:                   21611   BIC:                         6.006e+05\n",
       "Df Model:                           1                                         \n",
       "Covariance Type:            nonrobust                                         \n",
       "==============================================================================\n",
       "                 coef    std err          t      P>|t|      [0.025      0.975]\n",
       "------------------------------------------------------------------------------\n",
       "Intercept  -4.358e+04   4402.690     -9.899      0.000   -5.22e+04    -3.5e+04\n",
       "sqm_living  3020.6321     20.843    144.920      0.000    2979.777    3061.487\n",
       "==============================================================================\n",
       "Omnibus:                    14832.490   Durbin-Watson:                   1.983\n",
       "Prob(Omnibus):                  0.000   Jarque-Bera (JB):           546444.713\n",
       "Skew:                           2.824   Prob(JB):                         0.00\n",
       "Kurtosis:                      26.977   Cond. No.                         523.\n",
       "==============================================================================\n",
       "\n",
       "Warnings:\n",
       "[1] Standard Errors assume that the covariance matrix of the errors is correctly specified.\n",
       "\"\"\""
      ]
     },
     "execution_count": 30,
     "metadata": {},
     "output_type": "execute_result"
    }
   ],
   "source": [
    "import statsmodels.formula.api as smf\n",
    "reg = smf.ols(formula= 'price ~ sqm_living', data=data).fit()\n",
    "reg.summary()"
   ]
  },
  {
   "cell_type": "code",
   "execution_count": 31,
   "metadata": {},
   "outputs": [
    {
     "data": {
      "text/plain": [
       "261452.8876013142"
      ]
     },
     "execution_count": 31,
     "metadata": {},
     "output_type": "execute_result"
    }
   ],
   "source": [
    "reg.mse_resid**0.5"
   ]
  },
  {
   "cell_type": "markdown",
   "metadata": {},
   "source": [
    "The estimated relationship is: $\\hat{P} = -43580 + 3020.6321 A$ (where $\\hat{P}$ is the predicted price of a house given the area $A$ measured in square meter). From the model, it can be said that the effect of area increasing by $1m^{2}$ is that the house price tends to rise by $3020.6321$ dollars, on average. The 95% confidence interval of $\\hat{\\beta}_1$ does not include 0, thus indicating a considerable relationship between area and price of houses. \n",
    "The model $R^{2} = 0.493$ or 49.3%. This figure is not considerably high, thus only representing a moderate strength of fit. The SER is  $261452.89$ dollars, which indicates the standard deviation of observed residuals. In order to assess the magnitude of this standard deviation, it is necessary to consult with real estate agents. However, at first glance, the volatility of $261452.89$ dollars can be argued to be quite significant."
   ]
  },
  {
   "cell_type": "code",
   "execution_count": 32,
   "metadata": {},
   "outputs": [
    {
     "data": {
      "text/plain": [
       "<matplotlib.axes._subplots.AxesSubplot at 0x170bd15b6a0>"
      ]
     },
     "execution_count": 32,
     "metadata": {},
     "output_type": "execute_result"
    },
    {
     "data": {
      "image/png": "[encoded data removed]",
      "text/plain": [
       "<Figure size 432x288 with 1 Axes>"
      ]
     },
     "metadata": {
      "needs_background": "light"
     },
     "output_type": "display_data"
    }
   ],
   "source": [
    "fig, ax= plt.subplots()\n",
    "sns.regplot(data['sqm_living'],data['price'], ci=None, ax=ax)"
   ]
  },
  {
   "cell_type": "code",
   "execution_count": 33,
   "metadata": {},
   "outputs": [
    {
     "data": {
      "text/plain": [
       "Text(0.5, 1.0, 'Predictor vs residuals')"
      ]
     },
     "execution_count": 33,
     "metadata": {},
     "output_type": "execute_result"
    },
    {
     "data": {
      "image/png": "[encoded data removed]",
      "text/plain": [
       "<Figure size 432x288 with 1 Axes>"
      ]
     },
     "metadata": {
      "needs_background": "light"
     },
     "output_type": "display_data"
    }
   ],
   "source": [
    "fig, ax= plt.subplots()\n",
    "sns.regplot(data['sqm_living'], reg.resid, fit_reg= False)\n",
    "ax.set_xlabel('sqm_living')\n",
    "ax.set_ylabel('Residuals')\n",
    "ax.set_title('Predictor vs residuals')\n"
   ]
  },
  {
   "cell_type": "code",
   "execution_count": 34,
   "metadata": {
    "scrolled": true
   },
   "outputs": [
    {
     "data": {
      "text/plain": [
       "[<matplotlib.lines.Line2D at 0x170bd216df0>]"
      ]
     },
     "execution_count": 34,
     "metadata": {},
     "output_type": "execute_result"
    },
    {
     "data": {
      "image/png": "[encoded data removed]",
      "text/plain": [
       "<Figure size 432x288 with 1 Axes>"
      ]
     },
     "metadata": {
      "needs_background": "light"
     },
     "output_type": "display_data"
    }
   ],
   "source": [
    "sns.regplot(data['sqm_living'], reg.resid, fit_reg=False)\n",
    "ax.set_xlabel('sqm_living')\n",
    "ax.set_ylabel('Residuals')\n",
    "ax.set_title('Predictor vs residuals')\n",
    "z1 = lowess(reg.resid, data['sqm_living'], frac=1./5)\n",
    "plt.plot(z1[:,0],z1[:,1],'red')\n",
    "#plt.show()"
   ]
  },
  {
   "cell_type": "code",
   "execution_count": 35,
   "metadata": {},
   "outputs": [
    {
     "data": {
      "text/plain": [
       "count    2.161300e+04\n",
       "mean     1.816818e-11\n",
       "std      2.614468e+05\n",
       "min     -1.476062e+06\n",
       "25%     -1.474860e+05\n",
       "50%     -2.404282e+04\n",
       "75%      1.061821e+05\n",
       "max      4.362067e+06\n",
       "dtype: float64"
      ]
     },
     "execution_count": 35,
     "metadata": {},
     "output_type": "execute_result"
    }
   ],
   "source": [
    "reg.resid.describe()"
   ]
  },
  {
   "cell_type": "code",
   "execution_count": 36,
   "metadata": {},
   "outputs": [
    {
     "data": {
      "text/plain": [
       "<matplotlib.axes._subplots.AxesSubplot at 0x170bd26f670>"
      ]
     },
     "execution_count": 36,
     "metadata": {},
     "output_type": "execute_result"
    },
    {
     "data": {
      "image/png": "[encoded data removed]",
      "text/plain": [
       "<Figure size 432x288 with 1 Axes>"
      ]
     },
     "metadata": {
      "needs_background": "light"
     },
     "output_type": "display_data"
    }
   ],
   "source": [
    "sns.distplot(reg.resid)"
   ]
  },
  {
   "cell_type": "markdown",
   "metadata": {},
   "source": [
    "Here are the other assumptions of simple linear regression using OLS:\n",
    "\n",
    "1/Linearity:\n",
    "A \"lowess\" locally-smoothed regression curve fit through the data indicates linearity up $A = 300m^{2}$, and the line becomes steeper afterwards. This may or may not be becasue of \"end effects\" as almost all observations with extremely large areas have positive residuals. Still, overall the pattern seems to be linear and there is not any significant indication of other fitted models. Also, the residual plot suggests that the errors are nicely and evenly distributed around $X=0$.  Thus the assumption may be satisfied.\n",
    "\n",
    "2/ Exogeneity: \n",
    "The 'lowess' locally smoothed plot of the residuals indicates that $E(\\varepsilon | X) \\approx 0$ for $ 200 < X = A < 400$ but not outside that range. Overall, $E(\\varepsilon | X)$ seems to be larger than zero. However, this result may be due to end effects, and/or outliers as almost all observations with extremely large areas have positive residuals. Therefore, due to outlying observation, assessing $E(\\epsilon|X)=0$ in extreme details is not very vital and necessary here. Furthermore, a mean of $1.82 \\times 10^{-11}$ is obtained from the residual statistical summary and supported by the graphical representation above, so we may accept the assumption to be true.   \n",
    "\n",
    "3/Independence: \n",
    "Withouth clear description of the data collection procedure, it cannot be confirmed with certainty whether the data pairs are idependent and identically distributed or not. However, we can assume that each house observation is independent of one another. Therefore, the data inputs, which include price and area are also independent of one another. \n",
    "\n",
    "From a different standpoint, given the fact that the total area of land is limited, we might say house areas are dependent of one another since they contribute to the overall area. For example, if two houses have a total area of 1000 square meters, than knowing area of one house would make area of the other one fixed. Nevertheless, as long as the data of each house are collected distinctively, without very strict definition, the assumption can be accepted.\n",
    "\n",
    "4/4th moment exists:\n",
    "Price is a bounded variable. It is reasonable that this variable has a lower bound of zero. Also, since the number of houses are limited and residents only have finite amounts of money, we can broadly accept that house price implicitly has an upper bound. Similarly, area cannot be less than zero and have a finite upper limit. Therefore, the assumption is satisfied here\n",
    "\n",
    "5/ Constant error variance:\n",
    "This assumption can be said to be violated since the residual plot suggests unequal variances of errors in the data sample. More specifically, the variance tends to be small at first but becomes larger as the area of houses increase."
   ]
  },
  {
   "cell_type": "markdown",
   "metadata": {},
   "source": [
    "Least Absolute Deviations (LAD)"
   ]
  },
  {
   "cell_type": "code",
   "execution_count": 37,
   "metadata": {},
   "outputs": [
    {
     "data": {
      "text/html": [
       "<table class=\"simpletable\">\n",
       "<caption>QuantReg Regression Results</caption>\n",
       "<tr>\n",
       "  <th>Dep. Variable:</th>       <td>price</td>      <th>  Pseudo R-squared:  </th> <td>  0.2480</td> \n",
       "</tr>\n",
       "<tr>\n",
       "  <th>Model:</th>             <td>QuantReg</td>     <th>  Bandwidth:         </th> <td>3.151e+04</td>\n",
       "</tr>\n",
       "<tr>\n",
       "  <th>Method:</th>          <td>Least Squares</td>  <th>  Sparsity:          </th> <td>4.833e+05</td>\n",
       "</tr>\n",
       "<tr>\n",
       "  <th>Date:</th>          <td>Sun, 04 Apr 2021</td> <th>  No. Observations:  </th>  <td> 21613</td>  \n",
       "</tr>\n",
       "<tr>\n",
       "  <th>Time:</th>              <td>18:19:40</td>     <th>  Df Residuals:      </th>  <td> 21611</td>  \n",
       "</tr>\n",
       "<tr>\n",
       "  <th> </th>                      <td> </td>        <th>  Df Model:          </th>  <td>     1</td>  \n",
       "</tr>\n",
       "</table>\n",
       "<table class=\"simpletable\">\n",
       "<tr>\n",
       "       <td></td>         <th>coef</th>     <th>std err</th>      <th>t</th>      <th>P>|t|</th>  <th>[0.025</th>    <th>0.975]</th>  \n",
       "</tr>\n",
       "<tr>\n",
       "  <th>Intercept</th>  <td> 5.283e+04</td> <td> 4068.957</td> <td>   12.984</td> <td> 0.000</td> <td> 4.49e+04</td> <td> 6.08e+04</td>\n",
       "</tr>\n",
       "<tr>\n",
       "  <th>sqm_living</th> <td> 2332.2000</td> <td>   19.263</td> <td>  121.069</td> <td> 0.000</td> <td> 2294.442</td> <td> 2369.958</td>\n",
       "</tr>\n",
       "</table>"
      ],
      "text/plain": [
       "<class 'statsmodels.iolib.summary.Summary'>\n",
       "\"\"\"\n",
       "                         QuantReg Regression Results                          \n",
       "==============================================================================\n",
       "Dep. Variable:                  price   Pseudo R-squared:               0.2480\n",
       "Model:                       QuantReg   Bandwidth:                   3.151e+04\n",
       "Method:                 Least Squares   Sparsity:                    4.833e+05\n",
       "Date:                Sun, 04 Apr 2021   No. Observations:                21613\n",
       "Time:                        18:19:40   Df Residuals:                    21611\n",
       "                                        Df Model:                            1\n",
       "==============================================================================\n",
       "                 coef    std err          t      P>|t|      [0.025      0.975]\n",
       "------------------------------------------------------------------------------\n",
       "Intercept   5.283e+04   4068.957     12.984      0.000    4.49e+04    6.08e+04\n",
       "sqm_living  2332.2000     19.263    121.069      0.000    2294.442    2369.958\n",
       "==============================================================================\n",
       "\"\"\""
      ]
     },
     "execution_count": 37,
     "metadata": {},
     "output_type": "execute_result"
    }
   ],
   "source": [
    "lad= smf.quantreg(formula = 'price ~ sqm_living', data=data).fit(q=0.5)\n",
    "lad.summary()"
   ]
  },
  {
   "cell_type": "code",
   "execution_count": 38,
   "metadata": {},
   "outputs": [
    {
     "data": {
      "text/plain": [
       "0.45728335320643854"
      ]
     },
     "execution_count": 38,
     "metadata": {},
     "output_type": "execute_result"
    }
   ],
   "source": [
    "r_adj_lad = (reg.mse_total - lad.mse_resid)/reg.mse_total \n",
    "r_adj_lad"
   ]
  },
  {
   "cell_type": "code",
   "execution_count": 39,
   "metadata": {},
   "outputs": [
    {
     "data": {
      "text/plain": [
       "270460.05333619006"
      ]
     },
     "execution_count": 39,
     "metadata": {},
     "output_type": "execute_result"
    }
   ],
   "source": [
    "lad.mse_resid**0.5"
   ]
  },
  {
   "cell_type": "markdown",
   "metadata": {},
   "source": [
    "The estimated relationship is: $\\hat{P} = 52,830 + 2332.2 A$ (where $\\hat{P}$ is the predicted price of a house given the area $A$ measure in square meter). From the model, it can be said that the effect of area increasing by $1m^{2}$ is that the median house price tends to rise by $2332.2$ dollars. The 95% confidence interval of $\\hat{\\beta}_1$ does not include 0, thus indicating a considerable relationship between area and price of houses. Regarding strength of fit, since we do not have  $SST= RegSS +RSS$ for LAD estimation, $R^2_{adj}$ is more suitable here as it measures how much the SER has reduced $S^2_Y$. From the output above, $R^2_{adj} = 0.457$, which is slightly smaller than that of the OLS model ($0.493$). The standard deviation of the observed residuals is $270460.05$ dollars. In order to evaluate the magnitude of standard deviation, it is necessary to discuss with real estate agents.  However, at first glance, the volatility of $270460.05$ dollars can be argued to be quite significant.      "
   ]
  },
  {
   "cell_type": "code",
   "execution_count": 40,
   "metadata": {
    "scrolled": true
   },
   "outputs": [
    {
     "data": {
      "text/plain": [
       "[<matplotlib.lines.Line2D at 0x170bd1bf8b0>]"
      ]
     },
     "execution_count": 40,
     "metadata": {},
     "output_type": "execute_result"
    },
    {
     "data": {
      "image/png": "[encoded data removed]",
      "text/plain": [
       "<Figure size 432x288 with 1 Axes>"
      ]
     },
     "metadata": {
      "needs_background": "light"
     },
     "output_type": "display_data"
    }
   ],
   "source": [
    "sns.regplot(data['sqm_living'], lad.resid, fit_reg=False)\n",
    "ax.set_xlabel('sqm_living')\n",
    "ax.set_ylabel('Residuals')\n",
    "ax.set_title('Predictor vs residuals')\n",
    "z1 = lowess(reg.resid, data['sqm_living'], frac=1./5)\n",
    "plt.plot(z1[:,0],z1[:,1],'red')"
   ]
  },
  {
   "cell_type": "code",
   "execution_count": 41,
   "metadata": {},
   "outputs": [
    {
     "name": "stdout",
     "output_type": "stream",
     "text": [
      "10806\n",
      "10807\n"
     ]
    }
   ],
   "source": [
    "nonnegative=0\n",
    "negative=0\n",
    "for i in lad.resid:\n",
    "    if i >= 0:\n",
    "        nonnegative = nonnegative + 1\n",
    "    else:\n",
    "        negative = negative + 1\n",
    "print(nonnegative)\n",
    "print(negative)\n",
    "    "
   ]
  },
  {
   "cell_type": "code",
   "execution_count": 42,
   "metadata": {},
   "outputs": [
    {
     "data": {
      "text/plain": [
       "count    2.161300e+04\n",
       "mean     3.660987e+04\n",
       "std      2.679644e+05\n",
       "min     -8.735000e+05\n",
       "25%     -1.163333e+05\n",
       "50%     -3.662426e-07\n",
       "75%      1.248333e+05\n",
       "max      5.036333e+06\n",
       "dtype: float64"
      ]
     },
     "execution_count": 42,
     "metadata": {},
     "output_type": "execute_result"
    }
   ],
   "source": [
    "lad.resid.describe()"
   ]
  },
  {
   "cell_type": "markdown",
   "metadata": {},
   "source": [
    "Here are the assumptions of simple linear regression using LAD model:\n",
    "    \n",
    "1/Linearity:\n",
    "A \"lowess\" locally-smoothed regresiion curve fit through the data indicates linearity up $A = 300m^{2}$, and the line becomes steeper afterwards. This may or may not be becasue of \"end effects\" as almost all observations with extremely large areas have positive residuals. Still, overall the pattern seems to be linear and there is not any significant indication of other fitted models. Also, the residual plot suggests that the errors are nicely and evenly distributed around $X=0$. Thus the assumption may be satisfied.\n",
    "\n",
    "2/The median of $\\varepsilon | X =0$:\n",
    "The 'lowess' locally smoothed plot of the residuals appears to have more residuals allocating above zero compared to those under zero. Nevertheless, the number of nonegative and negative residuals are quite balanced (10806 and 10807), and the median of the sample reported is $-3.66 \\times 10^{-7}$. Hence, the assumption may be true.\n",
    "\n",
    "3/Independence: \n",
    "Withouth clear description of the data collection procedure, it cannot be confirmed with certainty whether the data pairs are independent and identically distributed or not. However, we can assume that each house observation is independent of one another. Therefore, the data inputs, which include price and area are also independent of one another. \n",
    "\n",
    "From a different standpoint, given the fact that the total area of land is limited, we might say house areas are dependent of one another since they contribute to the overall area. For example, if two houses have a total area of 1000 square meters, than knowing area of one house would make area of the other one fixed. Nevertheless, as long as the data of each house are collected distinctively, without very strict definition, the assumption can be accepted.\n",
    "\n",
    "4/Continuity of density:\n",
    "We do not know  here but will simply assume it to be true. $p(Y_{i}|X_{i})$Since area and house price are two continuous random variables, it may be reasonable that $p(Y_{i}|X_{i})$ is a continuous function. \n",
    "\n",
    "5/1st absolute moment of $Y$ exists ($E(|Y|) < \\infty$):\n",
    "Since $Y>0$, we have $E(Y) = E(|Y|)$. If house price is upper and lower bounded, then $E(Y) <\\infty$ is correct, so the assumption is satisfied.\n",
    "\n",
    "6/2nd moment of $X$ exists ($E(X^{2}) < \\infty$): The area should be a finite random variable with limited upper bound and lower bound of 0. Hence, $X^{2}$ should be a finite random variable, so the assumption is satisfied\n"
   ]
  },
  {
   "cell_type": "code",
   "execution_count": 43,
   "metadata": {},
   "outputs": [
    {
     "data": {
      "text/plain": [
       "[<matplotlib.lines.Line2D at 0x170bd350a30>]"
      ]
     },
     "execution_count": 43,
     "metadata": {},
     "output_type": "execute_result"
    },
    {
     "data": {
      "image/png": "[encoded data removed]",
      "text/plain": [
       "<Figure size 432x288 with 1 Axes>"
      ]
     },
     "metadata": {
      "needs_background": "light"
     },
     "output_type": "display_data"
    }
   ],
   "source": [
    "resid1 = reg.resid\n",
    "resid2 = lad.resid\n",
    "fit1 = reg.fittedvalues\n",
    "fit2 = lad.fittedvalues\n",
    "plt.scatter(data['sqm_living'], data['price'])\n",
    "plt.plot(data['sqm_living'], fit1)\n",
    "plt.plot(data['sqm_living'], fit2)"
   ]
  },
  {
   "cell_type": "markdown",
   "metadata": {},
   "source": [
    "## Part 6: Report Summary"
   ]
  },
  {
   "cell_type": "markdown",
   "metadata": {},
   "source": [
    "The task is designed into two parts, and the first one is to determine the statistical significant difference of house prices classified by waterfront area using exploratory analysis and hypothesis testing. Both ways suggest the difference is statistically significant. In particular, regarding hypothesis testing, all three tests reject the null hypothesis, with the Mann-whitney test yielding the most trustworthy results with many assumptions satisfied. However, if there is no ambiguity in the sampling process, t-test would become more useful and preferrable. This finding has some indications for both buyers and sellers. More specifically, they can expect a higher value of houses in waterfront area comparing to those outside the waterfront area, thus giving a more precise estimate about real estate when transacting.\n",
    "\n",
    "The second task is to examine the relationship between area and price of  houses using LAD and OLS model. In summary, both indicate a significant increase in house price corresponding to increase in area. More specifically, given $1m^{2}$ increase in area, the OLS model suggests a rise of $3020.63$ dollars in price on average, whereas the LAD model indicates an increase in median of $2332.2$ dollars. In terms of model credibility, we can broadly accept that LAD model satisfies all assumptions, whereas in the OLS model homoskedaticity might be violated. Still, overall these models may be good starting points for buyers and sellers to estimate real estate values. As a result, both sides can negotiate based on figures obtained from the model so that transactions would not be overvalued or undervalued. However, it should be aware that area is only one of many predictors of house prices. That is why the variation in Y is not fully explained in these simple regression models as measured by $R^{2}$ and $R^2_{adj}$.\n",
    "\n",
    "From investors' perspective, these findings show some ways to earn positive returns. In one way, out of similar cheap houses in undeveloped area, investors can select house with waterfront because it is likely that the value of that house will increase significantly when the area starts to be populated. If the intuition suggested above is true in real life, which means that there are less locations with waterfront comparing to those without, it is a good idea investors should rush to grab any possible oppotunities before waterfront locations will be sold out. Furthermore, given the positive relationship between house price and area, buyers can further expect that among all houses with waterfront, the one with largest area would tend to be the most valuable, and acquiring that real estate would probably make a significant return. Nonetheless, again investors should acknowledge that location and area do not totally decide value of real estate. Other considerable predictors might be number of rooms, neighborhood safety index, design style, etc. These additional information should give ways to multiple real estate strategies. For example, investors can buy an old house in waterfront area at cheap price, rebuild it with unique and comfortable style, and resell at much higher value. In short, there are ways earn returns using these findings, and one should develop his/her suitable strategy to make investment truly valuable. \n",
    "\n"
   ]
  }
 ],
 "metadata": {
  "kernelspec": {
   "display_name": "Python 3 (ipykernel)",
   "language": "python",
   "name": "python3"
  },
  "language_info": {
   "codemirror_mode": {
    "name": "ipython",
    "version": 3
   },
   "file_extension": ".py",
   "mimetype": "text/x-python",
   "name": "python",
   "nbconvert_exporter": "python",
   "pygments_lexer": "ipython3",
   "version": "3.9.7"
  }
 },
 "nbformat": 4,
 "nbformat_minor": 4
}
